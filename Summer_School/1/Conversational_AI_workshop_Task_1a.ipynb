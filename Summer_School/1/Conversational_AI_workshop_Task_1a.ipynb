{
 "nbformat": 4,
 "nbformat_minor": 0,
 "metadata": {
  "colab": {
   "name": "Conversational AI workshop: Task 1a",
   "provenance": [],
   "authorship_tag": "ABX9TyNkd8w90zrPH+Sir+RfH+Id",
   "include_colab_link": true
  },
  "kernelspec": {
   "name": "python3",
   "display_name": "Python 3"
  },
  "language_info": {
   "name": "python"
  },
  "accelerator": "GPU"
 },
 "cells": [
  {
   "cell_type": "markdown",
   "metadata": {
    "id": "view-in-github",
    "colab_type": "text"
   },
   "source": [
    "<a href=\"https://colab.research.google.com/github/utanashati/conversational-ai-workshop/blob/main/1/Conversational_AI_workshop_Task_1a.ipynb\" target=\"_parent\"><img src=\"https://colab.research.google.com/assets/colab-badge.svg\" alt=\"Open In Colab\"/></a>"
   ]
  },
  {
   "cell_type": "markdown",
   "metadata": {
    "id": "uMu_tohRZR-o"
   },
   "source": [
    "# Can your AI beat the Turing test?\n",
    "\n",
    "## Task 1: Language models\n",
    "\n",
    "Welcome to the workshop! \n",
    "\n",
    "In this first part you will train a character-based language model called minGPT from scratch! This will *not* give you a chat bot yet, but it gives you a model which is able to generate text, which lays the basis of open domain chat bots. Please have a bit of patience - we will get to this in task 2!\n",
    "\n",
    "\n",
    "### Important resources/links\n",
    "* [The workshop GitHub repo](https://github.com/utanashati/conversational-ai-workshop)\n",
    "* [Official minGPT repo](https://github.com/karpathy/minGPT)"
   ]
  },
  {
   "cell_type": "markdown",
   "metadata": {
    "id": "Y2beEEmUcak7"
   },
   "source": [
    "## Setting things up"
   ]
  },
  {
   "cell_type": "code",
   "metadata": {
    "id": "f9Crt8YhaoI1"
   },
   "source": [
    "!nvidia-smi | grep -q 'failed' && echo \"You are using a runtime without a GPU. Change the runtime type before going further!\"\n",
    "!git clone https://github.com/aig-upf/conversational-ai-workshop.git workshop_repo\n",
    "!git clone https://github.com/lorenzosteccanella/minGPT\n",
    "!cp -r minGPT/mingpt ."
   ],
   "execution_count": null,
   "outputs": []
  },
  {
   "cell_type": "code",
   "execution_count": null,
   "outputs": [],
   "source": [
    "# make deterministic\n",
    "from mingpt.utils import set_seed\n",
    "set_seed(42)"
   ],
   "metadata": {
    "collapsed": false,
    "pycharm": {
     "name": "#%%\n"
    }
   }
  },
  {
   "cell_type": "code",
   "metadata": {
    "id": "ThWqNf_AfZqZ"
   },
   "source": [
    "import numpy as np\n",
    "import math\n",
    "import os\n",
    "import sys\n",
    "import torch\n",
    "\n",
    "# PyTorch implements a genertic dataset class for us to load data into our model\n",
    "from torch.utils.data import Dataset\n",
    "\n",
    "# We import some modules from minGPT - No worries we will explain the code later!\n",
    "from mingpt.utils import sample\n",
    "from mingpt.trainer import Trainer, TrainerConfig\n",
    "from mingpt.model import GPT, GPTConfig"
   ],
   "execution_count": null,
   "outputs": []
  },
  {
   "cell_type": "code",
   "metadata": {
    "id": "NnX6fGPnfbVW"
   },
   "source": [
    "class CharDataset(Dataset):\n",
    "\n",
    "    def __init__(self, data, block_size):\n",
    "        # get set of unique characters in dataset\n",
    "        chars = sorted(list(set(data)))\n",
    "        data_size, vocab_size = len(data), len(chars)\n",
    "        print('data has %d characters, %d unique.' % (data_size, vocab_size))\n",
    "        \n",
    "        # build look-up table of character -> idx and idx -> character\n",
    "        self.stoi = { ch: i for i, ch in enumerate(chars) }\n",
    "        self.itos = { i: ch for i, ch in enumerate(chars) }\n",
    "        self.block_size = block_size\n",
    "        self.vocab_size = vocab_size\n",
    "        self.data = data\n",
    "    \n",
    "    def __len__(self):\n",
    "        return len(self.data) - self.block_size\n",
    "\n",
    "    def __getitem__(self, idx):\n",
    "        # grab a chunk of (block_size + 1) characters from the data\n",
    "        chunk = self.data[idx:(idx + self.block_size + 1)]\n",
    "        # encode every character to an integer\n",
    "        dix = [self.stoi[s] for s in chunk]\n",
    "        x = torch.tensor(dix[:-1], dtype=torch.long)\n",
    "        y = torch.tensor(dix[1:], dtype=torch.long)\n",
    "        return x, y y\n"
   ],
   "execution_count": null,
   "outputs": []
  },
  {
   "cell_type": "code",
   "metadata": {
    "id": "9iDXm8ZAfrS4"
   },
   "source": [
    "#@title Pick a dataset { run: \"auto\" }\n",
    "dataset = 'donald_trump_tweets' #@param [\"shakespeare\", \"chess\", \"donald_trump_tweets\", \"music\",\"javascript\", \"typescript\", \"json\", \"html\"]"
   ],
   "execution_count": null,
   "outputs": []
  },
  {
   "cell_type": "code",
   "metadata": {
    "id": "8EOwvTvkjDpd"
   },
   "source": [
    "# how large are input context window is\n",
    "block_size = 64   \n",
    "# load entire data into memory :)\n",
    "text = open(os.path.join('workshop_repo', '1', 'datasets', dataset + '.txt'), 'r').read()\n",
    "# create an instance of our dataset class\n",
    "train_dataset = CharDataset(text, block_size)\n",
    "# Create an instance of the configuration class, defining how large of a model we want to train\n",
    "mconf = GPTConfig(train_dataset.vocab_size, train_dataset.block_size, n_layer=8, n_head=8, n_embd=512)\n",
    "# Initialize a model based on the config\n",
    "model = GPT(mconf)"
   ],
   "execution_count": null,
   "outputs": []
  },
  {
   "cell_type": "code",
   "metadata": {
    "id": "PNTduBptuZQd"
   },
   "source": [
    "#@title Training configuration { run: \"auto\" }\n",
    "max_epochs = 1 #@param {type: \"integer\"}\n",
    "batch_size = 128 #@param {type: \"integer\"}"
   ],
   "execution_count": null,
   "outputs": []
  },
  {
   "cell_type": "code",
   "execution_count": null,
   "outputs": [],
   "source": [
    "# Your task here is to try to implement by your owkn a multiclass cross entropy that will be used to train your model.\n",
    "\n",
    "\n",
    "import torch.nn.functional as F\n",
    "\n",
    "def loss_fn(logits, targets):\n",
    "\n",
    "  # ### reshape logits and targets\n",
    "\n",
    "  # logits = logits.view(-1, logits.size(-1))\n",
    "  # targets = targets.view(-1)\n",
    "\n",
    "  # ### let's transform logits in probability and one hot encode the targets\n",
    "\n",
    "  # prob = F.softmax(logits, 1)\n",
    "  # one_hot_targets = F.one_hot(targets, num_classes= 99)\n",
    "\n",
    "  # ### let's define multiclass cross entropy\n",
    "\n",
    "  # loss = - (one_hot_targets * prob.log()).sum() / targets.shape[0]\n",
    "\n",
    "  return loss"
   ],
   "metadata": {
    "collapsed": false,
    "pycharm": {
     "name": "#%%\n"
    }
   }
  },
  {
   "cell_type": "code",
   "metadata": {
    "id": "XyfjjiNxnPS-"
   },
   "source": [
    "# initialize a trainer instance and kick off training\n",
    "tconf = TrainerConfig(max_epochs=max_epochs, batch_size=128, learning_rate=6e-4,\n",
    "                      lr_decay=True, warmup_tokens=512*20, final_tokens=2*len(train_dataset)*block_size,\n",
    "                      num_workers=4)\n",
    "trainer = Trainer(model, train_dataset, None, tconf, loss_fn)\n",
    "trainer.train()"
   ],
   "execution_count": null,
   "outputs": []
  },
  {
   "cell_type": "markdown",
   "metadata": {
    "id": "6_S2bHFu3Jfi"
   },
   "source": [
    "# Generate some text!\n",
    "\n",
    "In order to generate text we need to set a context. The model will then extend it."
   ]
  },
  {
   "cell_type": "code",
   "metadata": {
    "id": "z__Iw_itHvYO"
   },
   "source": [
    "#@title Sampling parameters { run: \"auto\" }\n",
    "temperature = 1 #@param {type: \"slider\", \"min\":0, \"max\": 10, \"step\": 0.1}\n",
    "top_p = 1.6 #@param {type: \"slider\", \"min\":0, \"max\": 10, \"step\": 0.1}\n",
    "top_k =  10 #@param {type: \"slider\", \"min\":1, \"max\": 20, \"step\": 1}"
   ],
   "execution_count": null,
   "outputs": []
  },
  {
   "cell_type": "code",
   "metadata": {
    "id": "lFymd13vpIUV"
   },
   "source": [
    "while True:\n",
    "  context = input('Enter a context:\\n>>> ')\n",
    "  if len(context) == 0:\n",
    "    continue\n",
    "  x = torch.tensor([train_dataset.stoi[s] for s in context], dtype=torch.long)[None,...].to(trainer.device)\n",
    "  y = sample(model, x, 1000, temperature=temperature, sample=True, top_k=top_k, top_p=top_p)[0]\n",
    "  completion = ''.join([train_dataset.itos[int(i)] for i in y])\n",
    "  print(completion)"
   ],
   "execution_count": null,
   "outputs": []
  }
 ]
}